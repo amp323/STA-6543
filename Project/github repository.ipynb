{
 "cells": [
  {
   "cell_type": "markdown",
   "id": "a80656e9-520d-4864-8d5e-5351dfd8911e",
   "metadata": {},
   "source": [
    "[GitHub Repository Project](https://github.com/amp323/STA-6543/blob/main/Project/)"
   ]
  },
  {
   "cell_type": "markdown",
   "id": "0d692c25-f47f-465b-9985-aae0f1a9d6e9",
   "metadata": {},
   "source": [
    "[GitHub Repository Assignments](https://github.com/amp323/STA-6543/tree/main/Assignments)"
   ]
  }
 ],
 "metadata": {
  "kernelspec": {
   "display_name": "Python 3 (ipykernel)",
   "language": "python",
   "name": "python3"
  },
  "language_info": {
   "codemirror_mode": {
    "name": "ipython",
    "version": 3
   },
   "file_extension": ".py",
   "mimetype": "text/x-python",
   "name": "python",
   "nbconvert_exporter": "python",
   "pygments_lexer": "ipython3",
   "version": "3.11.6"
  }
 },
 "nbformat": 4,
 "nbformat_minor": 5
}
