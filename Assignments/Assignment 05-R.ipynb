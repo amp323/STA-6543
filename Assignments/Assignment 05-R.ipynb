{
 "cells": [
  {
   "cell_type": "markdown",
   "id": "976045e2-86a6-4a6f-bfdc-021acb53fcce",
   "metadata": {},
   "source": [
    "# Assignment #5\n",
    "\n",
    "Name:\n",
    "\n",
    "    Angel Manuel Perez\n",
    "\n",
    "# Chapter 06 (page 283): 2, 9, 11\n"
   ]
  },
  {
   "cell_type": "code",
   "execution_count": 1,
   "id": "c611c274-ce2f-4c46-940b-cf3d665adaaa",
   "metadata": {},
   "outputs": [
    {
     "ename": "ERROR",
     "evalue": "Error in parse(text = x, srcfile = src): <text>:1:8: unexpected symbol\n1: import islp\n           ^\n",
     "output_type": "error",
     "traceback": [
      "Error in parse(text = x, srcfile = src): <text>:1:8: unexpected symbol\n1: import islp\n           ^\nTraceback:\n"
     ]
    }
   ],
   "source": []
  },
  {
   "cell_type": "code",
   "execution_count": null,
   "id": "c22d6d1e-aaac-44bc-8f21-79e479645c4c",
   "metadata": {},
   "outputs": [],
   "source": []
  }
 ],
 "metadata": {
  "kernelspec": {
   "display_name": "Python 3 (ipykernel)",
   "language": "python",
   "name": "python3"
  },
  "language_info": {
   "codemirror_mode": {
    "name": "ipython",
    "version": 3
   },
   "file_extension": ".py",
   "mimetype": "text/x-python",
   "name": "python",
   "nbconvert_exporter": "python",
   "pygments_lexer": "ipython3",
   "version": "3.11.6"
  }
 },
 "nbformat": 4,
 "nbformat_minor": 5
}
