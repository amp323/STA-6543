{
 "cells": [
  {
   "cell_type": "markdown",
   "id": "976045e2-86a6-4a6f-bfdc-021acb53fcce",
   "metadata": {},
   "source": [
    "# Assignment #6\n",
    "\n",
    "Name:\n",
    "\n",
    "    Angel Manuel Perez\n",
    "\n",
    "\n",
    "# Chapter 07 (page  297): 6, 10"
   ]
  },
  {
   "cell_type": "code",
   "execution_count": 1,
   "id": "c611c274-ce2f-4c46-940b-cf3d665adaaa",
   "metadata": {},
   "outputs": [],
   "source": [
    "import ISLP"
   ]
  },
  {
   "cell_type": "markdown",
   "id": "bd2ef6d5-9919-46f1-9e74-82c833215be2",
   "metadata": {},
   "source": [
    "# 6.6\n",
    "## In this exercise, you will further analyze the `Wage` data set considered throughout this chapter.\n"
   ]
  },
  {
   "cell_type": "markdown",
   "id": "e5d1871b-3125-4453-8226-2d92df732047",
   "metadata": {},
   "source": [
    "### (a) Perform polynomial regression to predict `wage` using `age`. Use cross-validation to select the optimal degree *d* for the polynomial. What degree was chosen, and how does this compare to the results of hypothesis testing using ANOVA? Make a plot of the resulting polynomial fit to the data.\n"
   ]
  },
  {
   "cell_type": "markdown",
   "id": "b92d417a-72e9-4be2-a03a-09d78164c885",
   "metadata": {},
   "source": [
    "### (b) Fit a step function to predict `wage` using `age`, and perform cross- validation to choose the optimal number of cuts. Make a plot of the fit obtained."
   ]
  },
  {
   "cell_type": "markdown",
   "id": "dc0695c6-a392-4e95-af40-ff13303e9b5c",
   "metadata": {},
   "source": [
    "# 6.10\n",
    "## This question relates to the `College` data set.\n"
   ]
  },
  {
   "cell_type": "markdown",
   "id": "f6d4f80b-886d-4e56-8596-4056ba0ea100",
   "metadata": {},
   "source": [
    "### (a) Split the data into a training set and a test set. Using out-of-state tuition as the response and the other variables as the predictors, perform forward stepwise selection on the training set in order to identify a satisfactory model that uses just a subset of the predictors.\n"
   ]
  },
  {
   "cell_type": "markdown",
   "id": "54f2b374-207c-4136-806b-67a0268cb940",
   "metadata": {},
   "source": [
    "### (b) Fit a GAM on the training data, using out-of-state tuition as the response and the features selected in the previous step as the predictors. Plot the results, and explain your findings.\n"
   ]
  },
  {
   "cell_type": "markdown",
   "id": "cbd33785-955f-486f-8470-542afff86eb0",
   "metadata": {},
   "source": [
    "### (c) Evaluate the model obtained on the test set, and explain the results obtained.\n"
   ]
  },
  {
   "cell_type": "markdown",
   "id": "481153e3-cd08-4ffd-aeed-b916df63cab9",
   "metadata": {},
   "source": [
    "### (d) For which variables, if any, is there evidence of a non-linear relationship with the response?"
   ]
  },
  {
   "cell_type": "markdown",
   "id": "ddfd2a39-46f2-4c30-b9a6-788120209dd6",
   "metadata": {},
   "source": []
  }
 ],
 "metadata": {
  "kernelspec": {
   "display_name": "Python 3 (ipykernel)",
   "language": "python",
   "name": "python3"
  },
  "language_info": {
   "codemirror_mode": {
    "name": "ipython",
    "version": 3
   },
   "file_extension": ".py",
   "mimetype": "text/x-python",
   "name": "python",
   "nbconvert_exporter": "python",
   "pygments_lexer": "ipython3",
   "version": "3.11.6"
  }
 },
 "nbformat": 4,
 "nbformat_minor": 5
}
