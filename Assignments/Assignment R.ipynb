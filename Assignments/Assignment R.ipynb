{
 "cells": [
  {
   "cell_type": "markdown",
   "id": "c7558b0e-b9ce-45e2-bcff-73f9cf12887f",
   "metadata": {},
   "source": [
    "# Assignment # \n",
    "\n",
    "Name:\n",
    "\n",
    "    Angel Manuel Perez\n"
   ]
  },
  {
   "cell_type": "code",
   "execution_count": 6,
   "id": "72f434c6-20a5-410c-9df3-83dc0cb4320b",
   "metadata": {},
   "outputs": [],
   "source": [
    "library(\"ISLR2\")"
   ]
  },
  {
   "cell_type": "code",
   "execution_count": null,
   "id": "f8404057-1fe3-4daa-ba76-7695d1e1aba4",
   "metadata": {},
   "outputs": [],
   "source": []
  }
 ],
 "metadata": {
  "kernelspec": {
   "display_name": "R",
   "language": "R",
   "name": "ir"
  },
  "language_info": {
   "codemirror_mode": "r",
   "file_extension": ".r",
   "mimetype": "text/x-r-source",
   "name": "R",
   "pygments_lexer": "r",
   "version": "4.3.1"
  }
 },
 "nbformat": 4,
 "nbformat_minor": 5
}
