{
 "cells": [
  {
   "cell_type": "markdown",
   "id": "ddb84b9d-f19d-48fb-b1eb-a431dcfde5ee",
   "metadata": {},
   "source": [
    "# Assignment #1 \n",
    "\n",
    "Name:\n",
    "\n",
    "    Angel Manuel Perez\n",
    "\n",
    "Chapter 02 (page 54): 2, 5, 6, 8-10\n"
   ]
  },
  {
   "cell_type": "markdown",
   "id": "0b028c1f-8f59-4450-8c94-cf75961ab42d",
   "metadata": {},
   "source": [
    "# 2 \n",
    "## Explain whether each scenario is a classifcation or regression problem, and indicate whether we are most interested in inference or prediction. Finally, provide n and p.\n"
   ]
  },
  {
   "cell_type": "markdown",
   "id": "2c44f3b6-bc6d-4cc7-885a-aa191b5bfedb",
   "metadata": {},
   "source": [
    "## (a) \n",
    "### We collect a set of data on the top 500 frms in the US. For each frm we record proft, number of employees, industry and the CEO salary. We are interested in understanding which factors afect CEO salary"
   ]
  },
  {
   "cell_type": "markdown",
   "id": "083a0160-28e2-4dcf-87e0-f6644f889b43",
   "metadata": {},
   "source": [
    "## (b) \n",
    "### We are considering launching a new product and wish to know whether it will be a success or a failure. We collect data on 20 similar products that were previously launched. For each product we have recorded whether it was a success or failure, price charged for the product, marketing budget, competition price, and ten other variables."
   ]
  },
  {
   "cell_type": "markdown",
   "id": "f404d61f-2c89-4545-b3cb-b8b70730c705",
   "metadata": {},
   "source": [
    "## (c) \n",
    "### We are interested in predicting the % change in the USD/Euro exchange rate in relation to the weekly changes in the world stock markets. Hence we collect weekly data for all of 2012. For each week we record the % change in the USD/Euro, the % change in the US market, the % change in the British market, and the % change in the German market."
   ]
  },
  {
   "cell_type": "markdown",
   "id": "a49d3320-3fd1-4a3c-9329-cb99d66696a3",
   "metadata": {},
   "source": [
    "# 5"
   ]
  },
  {
   "cell_type": "markdown",
   "id": "059410c7-8176-4bb5-92b2-86a16aa0b209",
   "metadata": {},
   "source": [
    "## What are the advantages and disadvantages of a very fexible (versus a less fexible) approach for regression or classifcation? Under what circumstances might a more fexible approach be preferred to a less fexible approach? When might a less fexible approach be preferred?"
   ]
  },
  {
   "cell_type": "markdown",
   "id": "d56abe87-94e0-433a-8bf5-6ceea5cd1b5d",
   "metadata": {},
   "source": []
  },
  {
   "cell_type": "markdown",
   "id": "b26ecf45-03a5-4543-8ca1-5bbb4e81c16e",
   "metadata": {},
   "source": [
    "# 6"
   ]
  },
  {
   "cell_type": "markdown",
   "id": "f29d82dd-1e38-4fcc-808e-7e1234824c51",
   "metadata": {},
   "source": [
    "## Describe the diferences between a parametric and a non-parametric statistical learning approach. What are the advantages of a parametric approach to regression or classifcation (as opposed to a nonparametric approach)? What are its disadvantages?"
   ]
  },
  {
   "cell_type": "markdown",
   "id": "8ee793b6-387c-4c6b-b523-d840001a18a1",
   "metadata": {},
   "source": []
  },
  {
   "cell_type": "markdown",
   "id": "5720719b-dc5b-4269-a9b4-0c47ffbe08ea",
   "metadata": {},
   "source": [
    "# 8\n"
   ]
  },
  {
   "cell_type": "markdown",
   "id": "2f6ee445-4055-4d12-94c1-4dcb65178fbe",
   "metadata": {},
   "source": [
    "## This exercise relates to the `College` data set, which can be found in the fle `College.csv` on the book website. It contains a number of variables for 777 diferent universities and colleges in the US. The variables are:\n",
    "\n",
    "• `Private` : Public/private indicator\n",
    "\n",
    "• `Apps` : Number of applications received\n",
    "\n",
    "• `Accept` : Number of applicants accepted\n",
    "\n",
    "• `Enroll` : Number of new students enrolled\n",
    "\n",
    "• `Top10perc` : New students from top 10 % of high school class\n",
    "\n",
    "• `Top25perc` : New students from top 25 % of high school class\n",
    "\n",
    "• `F.Undergrad` : Number of full-time undergraduates\n",
    "\n",
    "• `P.Undergrad` : Number of part-time undergraduates\n",
    "\n",
    "• `Outstate` : Out-of-state tuition\n",
    "\n",
    "• `Room.Board` : Room and board costs\n",
    "\n",
    "• `Books` : Estimated book costs\n",
    "\n",
    "• `Personal` : Estimated personal spending\n",
    "\n",
    "• `PhD` : Percent of faculty with Ph.D.’s\n",
    "\n",
    "• `Terminal` : Percent of faculty with terminal degree\n",
    "\n",
    "• `S.F.Ratio` : Student/faculty ratio\n",
    "\n",
    "• `perc.alumni` : Percent of alumni who donate\n",
    "\n",
    "• `Expend` : Instructional expenditure per student\n",
    "\n",
    "• `Grad.Rate` : Graduation rate\n",
    "\n",
    "## Before reading the data into R, it can be viewed in Excel or a text editor."
   ]
  },
  {
   "cell_type": "markdown",
   "id": "2db67659-e079-47a7-8d93-7b3b69030f74",
   "metadata": {},
   "source": [
    "## (a)\n",
    "### Use the read.csv() function to read the data into R. Call the loaded data college. Make sure that you have the directory set to the correct location for the data."
   ]
  },
  {
   "cell_type": "markdown",
   "id": "d39f4453-9058-4997-ac49-18e0caa4b08a",
   "metadata": {},
   "source": [
    "## (b) \n",
    "### Look at the data using the `View()` function. You should notice that the frst column is just the name of each university. We don’t really want R to treat this as data. However, it may be handy to have these names for later. Try the following commands:\n",
    "```r\n",
    "> rownames(college) <- college[, 1]\n",
    "> View(college)\n",
    "```\n",
    "### You should see that there is now a `row.names` column with the name of each university recorded. This means that R has given each row a name corresponding to the appropriate university. R will not try to perform calculations on the row names. However, we still need to eliminate the frst column in the data where the names are stored. Try:\n",
    "```r\n",
    "> college <- college[, -1]\n",
    "> View(college)\n",
    "```\n",
    "### Now you should see that the frst data column is `Private`. Note that another column labeled `row.names` now appears before the `Private` column. However, this is not a data column but rather the name that R is giving to each row."
   ]
  },
  {
   "cell_type": "markdown",
   "id": "d55b5e63-8608-4bd4-b92a-81261e50342a",
   "metadata": {},
   "source": []
  },
  {
   "cell_type": "markdown",
   "id": "f033b149-7836-4aa5-a61f-de9d27cd8991",
   "metadata": {},
   "source": [
    "## (c) \n",
    "### i. Use the summary() function to produce a numerical summary of the variables in the data set.\n",
    "### ii. Use the pairs() function to produce a scatterplot matrix of the frst ten columns or variables of the data. Recall that you can reference the frst ten columns of a matrix A using A[,1:10].\n",
    "### iii. Use the plot() function to produce side-by-side boxplots of `Outstate` versus `Private`.\n",
    "#### iv. Create a new qualitative variable, called `Elite`, by binning the `Top10perc` variable. We are going to divide universities into two groups based on whether or not the proportion of students coming from the top 10 % of their high school classes exceeds 50%.\n",
    "```r\n",
    "> Elite <- rep(\"No\", nrow(college))\n",
    "> Elite[college$Top10perc > 50] <- \"Yes\"\n",
    "> Elite <- as.factor(Elite)\n",
    "> college <- data.frame(college, Elite)\n",
    "```\n",
    "Use the `summary()` function to see how many elite universities there are. Now use the `plot()` function to produce\n",
    "side-by-side boxplots of `Outstate` versus `Elite`.\n",
    "\n",
    "### v. Use the `hist()` function to produce some histograms with difering numbers of bins for a few of the quantitative variables. You may fnd the command `par(mfrow = c(2, 2))` useful: it will divide the print window into four regions so that four plots can be made simultaneously. Modifying the arguments to this function will divide the screen in other ways.\n",
    "\n",
    "### vi. Continue exploring the data, and provide a brief summary of what you discover."
   ]
  },
  {
   "cell_type": "markdown",
   "id": "56a98d55-726a-46bc-aec8-5832144c4282",
   "metadata": {},
   "source": [
    "# 9 \n",
    "## This exercise involves the Auto data set studied in the lab. Make sure that the missing values have been removed from the data.\n",
    " \n"
   ]
  },
  {
   "cell_type": "markdown",
   "id": "09df3205-a79e-42d3-b670-b92d5bc682ff",
   "metadata": {},
   "source": [
    "### (a) Which of the predictors are quantitative, and which are qualitative?\n"
   ]
  },
  {
   "cell_type": "code",
   "execution_count": null,
   "id": "70d5516c-939b-468f-ac3e-d345b0b83728",
   "metadata": {},
   "outputs": [],
   "source": []
  },
  {
   "cell_type": "markdown",
   "id": "b3adb060-5573-41dc-9483-158d9ff36c50",
   "metadata": {},
   "source": [
    "### (b) What is the range of each quantitative predictor? You can answer this using the range() function. range()\n"
   ]
  },
  {
   "cell_type": "code",
   "execution_count": null,
   "id": "9d8da0b9-0624-42ff-85db-2fd7458d5a6d",
   "metadata": {},
   "outputs": [],
   "source": []
  },
  {
   "cell_type": "markdown",
   "id": "89c962da-1b3f-4f06-a4bc-9b34fa23affb",
   "metadata": {},
   "source": [
    "### (c) What is the mean and standard deviation of each quantitative predictor?\n"
   ]
  },
  {
   "cell_type": "code",
   "execution_count": null,
   "id": "7bfad3f3-fcf6-4a8f-b632-5018f1fb0e32",
   "metadata": {},
   "outputs": [],
   "source": []
  },
  {
   "cell_type": "markdown",
   "id": "04da515e-8609-4c70-8111-b888f09defc8",
   "metadata": {},
   "source": [
    "### (d) Now remove the 10th through 85th observations. What is the range, mean, and standard deviation of each predictor in the subset of the data that remains?\n"
   ]
  },
  {
   "cell_type": "code",
   "execution_count": null,
   "id": "887ebaf1-6666-4815-81b8-7fd2cb3c92ae",
   "metadata": {},
   "outputs": [],
   "source": []
  },
  {
   "cell_type": "markdown",
   "id": "ba032a51-cb08-4a1a-919a-3ff3d9a9177b",
   "metadata": {},
   "source": [
    "### (e) Using the full data set, investigate the predictors graphically, using scatterplots or other tools of your choice. Create some plots highlighting the relationships among the predictors. Comment on your fndings.\n"
   ]
  },
  {
   "cell_type": "markdown",
   "id": "5a2f98f7-fa64-48d5-8b61-b1941aaec921",
   "metadata": {},
   "source": []
  },
  {
   "cell_type": "markdown",
   "id": "39518eb2-490d-4800-827d-1b71437ec5d4",
   "metadata": {},
   "source": [
    "### (f) Suppose that we wish to predict gas mileage (mpg) on the basis of the other variables. Do your plots suggest that any of the other variables might be useful in predicting mpg? Justify your answer. \n"
   ]
  },
  {
   "cell_type": "markdown",
   "id": "89d02578-b726-4654-88e5-fabeb2f6aff6",
   "metadata": {},
   "source": []
  },
  {
   "cell_type": "markdown",
   "id": "c8919937-f3dd-4da5-99a1-49a90ac15baf",
   "metadata": {},
   "source": [
    "# 10\n",
    "## This exercise involves the Boston housing data set.\n"
   ]
  },
  {
   "cell_type": "markdown",
   "id": "fd444b82-6131-4bcb-80b6-230d6b89a09f",
   "metadata": {},
   "source": [
    "## (a) \n",
    "### To begin, load in the Boston data set. The Boston data set is part of the ISLR2 library.\n",
    "```r\n",
    "> library(ISLR2)\n",
    "```\n",
    "### Now the data set is contained in the object Boston.\n",
    "```r\n",
    "> Boston\n",
    "```\n",
    "### Read about the data set:\n",
    "```r\n",
    "> ?Boston\n",
    "```\n",
    "### How many rows are in this data set? How many columns? What do the rows and columns represent?"
   ]
  },
  {
   "cell_type": "markdown",
   "id": "ed30de4d-46b1-472f-917c-abd29c4a69d6",
   "metadata": {},
   "source": [
    "### (b) Make some pairwise scatterplots of the predictors (columns) in this data set. Describe your findings.\n"
   ]
  },
  {
   "cell_type": "markdown",
   "id": "9d272b44-a54d-4395-856b-e88df1734459",
   "metadata": {},
   "source": [
    "### (c) Are any of the predictors associated with per capita crime rate? If so, explain the relationship.\n",
    "\n"
   ]
  },
  {
   "cell_type": "markdown",
   "id": "eae74eeb-ab18-4e57-9a7a-37eac04cdd3d",
   "metadata": {},
   "source": [
    "### (d) Do any of the census tracts of Boston appear to have particularly high crime rates? Tax rates? Pupil-teacher ratios? Comment on the range of each predictor.\n"
   ]
  },
  {
   "cell_type": "markdown",
   "id": "150f7c4e-5bc1-419b-819d-a2f0ad8c8da9",
   "metadata": {},
   "source": [
    "### (e) How many of the census tracts in this data set bound the Charles river?\n"
   ]
  },
  {
   "cell_type": "markdown",
   "id": "f4913b13-ebea-4d37-8294-f241f2ee4584",
   "metadata": {},
   "source": [
    "### (f) What is the median pupil-teacher ratio among the towns in this data set?\n"
   ]
  },
  {
   "cell_type": "markdown",
   "id": "c17abce7-9583-482d-8e69-f5ed8cb5437f",
   "metadata": {},
   "source": [
    "### (g) Which census tract of Boston has lowest median value of owneroccupied homes? What are the values of the other predictors for that census tract, and how do those values compare to the overall ranges for those predictors? Comment on your fndings.\n"
   ]
  },
  {
   "cell_type": "markdown",
   "id": "14b5feca-5e07-41c5-b9cc-27bb591c977b",
   "metadata": {},
   "source": [
    "### (h) In this data set, how many of the census tracts average more than seven rooms per dwelling? More than eight rooms per dwelling? Comment on the census tracts that average more than eight rooms per dwelling."
   ]
  },
  {
   "cell_type": "code",
   "execution_count": null,
   "id": "7d3ae5a6-8cfe-41e2-aeb0-b920de57c719",
   "metadata": {},
   "outputs": [],
   "source": []
  }
 ],
 "metadata": {
  "kernelspec": {
   "display_name": "R",
   "language": "R",
   "name": "ir"
  },
  "language_info": {
   "codemirror_mode": "r",
   "file_extension": ".r",
   "mimetype": "text/x-r-source",
   "name": "R",
   "pygments_lexer": "r",
   "version": "4.3.1"
  }
 },
 "nbformat": 4,
 "nbformat_minor": 5
}
