{
 "cells": [
  {
   "cell_type": "markdown",
   "id": "08524494-c457-439a-b386-6fcb9de908a0",
   "metadata": {},
   "source": [
    "# Assignment #3\n",
    "\n",
    "Name:\n",
    "\n",
    "    Angel Manuel Perez\n",
    "Chapter 04 (page  189): 13, 14, 16\n",
    "\n"
   ]
  },
  {
   "cell_type": "markdown",
   "id": "dfbdec19-dfef-4c73-8124-f3951cb044f2",
   "metadata": {},
   "source": [
    "# 4.13\n",
    "## This question should be answered using the Weekly data set, which is part of the ISLR2 package. This data is similar in nature to the Smarket data from this chapter’s lab, except that it contains 1, 089 weekly returns for 21 years, from the beginning of 1990 to the end of 2010."
   ]
  },
  {
   "cell_type": "markdown",
   "id": "2863954f-a0b6-468c-ad6f-f5deaeb92b75",
   "metadata": {},
   "source": [
    "## (a)\n",
    "### Produce some numerical and graphical summaries of the Weekly data. Do there appear to be any patterns?"
   ]
  },
  {
   "cell_type": "markdown",
   "id": "633f6d6f-a247-48e0-b070-e8c832defd09",
   "metadata": {},
   "source": []
  },
  {
   "cell_type": "markdown",
   "id": "9a471094-53e8-4129-9959-c3af99c43e6b",
   "metadata": {},
   "source": [
    "## (b) \n",
    "### Use the full data set to perform a logistic regression with Direction as the response and the fve lag variables plus Volume as predictors. Use the summary function to print the results. Do any of the predictors appear to be statistically signifcant? If so, which ones?\n"
   ]
  },
  {
   "cell_type": "markdown",
   "id": "fc5cc7a6-e0e1-47a9-afd3-3d7b59516cb7",
   "metadata": {},
   "source": [
    "## (c) \n",
    "### Compute the confusion matrix and overall fraction of correct predictions. Explain what the confusion matrix is telling you about the types of mistakes made by logistic regression.\n"
   ]
  },
  {
   "cell_type": "markdown",
   "id": "7a6adfaf-b7f7-4da5-99fd-40b4cbb0d98e",
   "metadata": {},
   "source": [
    "## (d) \n",
    "### Now ft the logistic regression model using a training data period from 1990 to 2008, with Lag2 as the only predictor. Compute the confusion matrix and the overall fraction of correct predictions for the held out data (that is, the data from 2009 and 2010).\n"
   ]
  },
  {
   "cell_type": "markdown",
   "id": "3f6ca433-64e8-49ca-8462-36398904eb67",
   "metadata": {},
   "source": [
    "## (e) \n",
    "### Repeat (d) using LDA.\n"
   ]
  },
  {
   "cell_type": "markdown",
   "id": "ea28e3f7-5fb7-497a-b162-22f7117fa1ff",
   "metadata": {},
   "source": [
    "## (f) \n",
    "### Repeat (d) using QDA."
   ]
  },
  {
   "cell_type": "markdown",
   "id": "edc73f61-4d03-4594-a64f-1a7d1b009216",
   "metadata": {},
   "source": [
    "## (g) \n",
    "### Repeat (d) using KNN with K = 1.\n"
   ]
  },
  {
   "cell_type": "markdown",
   "id": "c55e8ea7-2374-401a-bcf7-8ec019f73432",
   "metadata": {},
   "source": [
    "## (h) \n",
    "### Repeat (d) using naive Bayes.\n"
   ]
  },
  {
   "cell_type": "markdown",
   "id": "35c55537-59ba-4864-88f5-3691a71fd9db",
   "metadata": {},
   "source": [
    "## (i) \n",
    "### Which of these methods appears to provide the best results on this data?\n"
   ]
  },
  {
   "cell_type": "markdown",
   "id": "ed0eb229-4360-479e-8716-7806e27e7a69",
   "metadata": {},
   "source": [
    "## (j) \n",
    "### Experiment with diferent combinations of predictors, including possible transformations and interactions, for each of the methods. Report the variables, method, and associated confusion matrix that appears to provide the best results on the held out data. Note that you should also experiment with values for K in the KNN classifer."
   ]
  },
  {
   "cell_type": "markdown",
   "id": "ab52c185-692a-40e9-869d-c2b544d3127d",
   "metadata": {},
   "source": []
  },
  {
   "cell_type": "markdown",
   "id": "bd3473e2-08a8-4f95-93d2-c63a35683ce2",
   "metadata": {},
   "source": [
    "# 4.14"
   ]
  },
  {
   "cell_type": "markdown",
   "id": "b69c2c91-9916-4217-b850-4047e0ee6787",
   "metadata": {},
   "source": [
    "## (a) \n",
    "### Create a binary variable, `mpg01`, that contains a 1 if mpg contains a value above its median, and a 0 if mpg contains a value below its median. You can compute the median using the median() function. Note you may fnd it helpful to use the data.frame() function to create a single data set containing both mpg01 and the other Auto variables.\n"
   ]
  },
  {
   "cell_type": "markdown",
   "id": "6cc13241-0329-4278-bb1d-9948364a641a",
   "metadata": {},
   "source": [
    "## (b) \n",
    "### Explore the data graphically in order to investigate the association between mpg01 and the other features. Which of the other features seem most likely to be useful in predicting mpg01? Scatterplots and boxplots may be useful tools to answer this question. Describe your fndings.\n"
   ]
  },
  {
   "cell_type": "markdown",
   "id": "bac2408f-1385-413f-8368-31f409b2b38c",
   "metadata": {},
   "source": [
    "## (c) \n",
    "### Split the data into a training set and a test set.\n"
   ]
  },
  {
   "cell_type": "markdown",
   "id": "847dc440-58f9-454a-be96-eedf7705f132",
   "metadata": {},
   "source": [
    "## (d) \n",
    "### Perform LDA on the training data in order to predict `mpg01` using the variables that seemed most associated with `mpg01` in (b). What is the test error of the model obtained?"
   ]
  },
  {
   "cell_type": "markdown",
   "id": "ac07b942-9861-4e29-bb98-70e070c55363",
   "metadata": {},
   "source": [
    "## (e) \n",
    "### Perform QDA on the training data in order to predict `mpg01` using the variables that seemed most associated with `mpg01` in (b). What is the test error of the model obtained?\n"
   ]
  },
  {
   "cell_type": "markdown",
   "id": "d4517e17-bfff-498a-a8de-c807220888a6",
   "metadata": {},
   "source": [
    "## (f) \n",
    "### Perform logistic regression on the training data in order to predict mpg01 using the variables that seemed most associated with `mpg01` in (b). What is the test error of the model obtained?\n"
   ]
  },
  {
   "cell_type": "markdown",
   "id": "70949a82-d992-4951-b132-e5a7d5a4da66",
   "metadata": {},
   "source": [
    "## (g) \n",
    "### Perform naive Bayes on the training data in order to predict `mpg01` using the variables that seemed most associated with `mpg01` in (b). What is the test error of the model obtained?\n"
   ]
  },
  {
   "cell_type": "markdown",
   "id": "7a908806-2f95-402d-a0d4-05f7f4598db2",
   "metadata": {},
   "source": [
    "## (h) \n",
    "### Perform KNN on the training data, with several values of _K_, in order to predict `mpg01`. Use only the variables that seemed most associated with `mpg01` in (b). What test errors do you obtain? Which value of K seems to perform the best on this data set?"
   ]
  },
  {
   "cell_type": "markdown",
   "id": "d9624b2a-adac-42d5-b84d-615ab44a01d8",
   "metadata": {},
   "source": []
  },
  {
   "cell_type": "markdown",
   "id": "aa27479f-645d-4dcb-969f-36b5542e9854",
   "metadata": {},
   "source": [
    "# 4.16\n",
    "##  Using the Boston data set, ft classifcation models in order to predict whether a given suburb has a crime rate above or below the median. Explore logistic regression, LDA, naive Bayes, and KNN models using various subsets of the predictors. Describe your findings. \n",
    "## *_Hint: You will have to create the response variable yourself, using the variables that are contained in the Boston data set.)_"
   ]
  },
  {
   "cell_type": "markdown",
   "id": "d9736a7e-e600-4e46-a3a1-1e03e9a93071",
   "metadata": {},
   "source": []
  }
 ],
 "metadata": {
  "kernelspec": {
   "display_name": "Python 3 (ipykernel)",
   "language": "python",
   "name": "python3"
  },
  "language_info": {
   "codemirror_mode": {
    "name": "ipython",
    "version": 3
   },
   "file_extension": ".py",
   "mimetype": "text/x-python",
   "name": "python",
   "nbconvert_exporter": "python",
   "pygments_lexer": "ipython3",
   "version": "3.11.6"
  }
 },
 "nbformat": 4,
 "nbformat_minor": 5
}
