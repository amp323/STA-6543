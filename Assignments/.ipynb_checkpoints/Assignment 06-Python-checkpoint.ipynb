{
 "cells": [
  {
   "cell_type": "markdown",
   "id": "976045e2-86a6-4a6f-bfdc-021acb53fcce",
   "metadata": {},
   "source": [
    "# Assignment #\n",
    "\n",
    "Name:\n",
    "\n",
    "    Angel Manuel Perez\n",
    "\n",
    "ID:\n",
    "\n",
    "    bue908\n",
    "    01132886\n",
    "# "
   ]
  },
  {
   "cell_type": "code",
   "execution_count": 1,
   "id": "c611c274-ce2f-4c46-940b-cf3d665adaaa",
   "metadata": {},
   "outputs": [],
   "source": [
    "import ISLP"
   ]
  },
  {
   "cell_type": "code",
   "execution_count": null,
   "id": "268d13e9-8e5d-4919-bb72-40288a42acfa",
   "metadata": {},
   "outputs": [],
   "source": []
  }
 ],
 "metadata": {
  "kernelspec": {
   "display_name": "Python 3 (ipykernel)",
   "language": "python",
   "name": "python3"
  },
  "language_info": {
   "codemirror_mode": {
    "name": "ipython",
    "version": 3
   },
   "file_extension": ".py",
   "mimetype": "text/x-python",
   "name": "python",
   "nbconvert_exporter": "python",
   "pygments_lexer": "ipython3",
   "version": "3.11.6"
  }
 },
 "nbformat": 4,
 "nbformat_minor": 5
}
