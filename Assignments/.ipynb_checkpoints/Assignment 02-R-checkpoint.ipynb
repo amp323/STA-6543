{
 "cells": [
  {
   "cell_type": "markdown",
   "id": "0ed72467-3a97-426b-9126-f3a37994a772",
   "metadata": {},
   "source": [
    "# Assignment #2\n",
    "\n",
    "Name:\n",
    "\n",
    "    Angel Manuel Perez\n",
    "\n",
    "ID:\n",
    "\n",
    "    bue908\n",
    "    01132886\n",
    "    \n",
    "Chapter 03 (page 121): 2, 9, 10, 12"
   ]
  },
  {
   "cell_type": "markdown",
   "id": "e9c8f6c4-a29e-44d0-bef8-bf35abf37519",
   "metadata": {},
   "source": [
    "# 2"
   ]
  },
  {
   "cell_type": "markdown",
   "id": "8363ab98-b8ac-4ff0-bbe7-dd8ac6d47d51",
   "metadata": {},
   "source": [
    " Carefully explain the diferences between the KNN classifer and KNN\n",
    "regression methods."
   ]
  },
  {
   "cell_type": "markdown",
   "id": "e7841516-024b-49cd-8967-f27183af54e3",
   "metadata": {},
   "source": [
    "# 3.9\n",
    "## This question involves the use of multiple linear regression on the `Auto` data set."
   ]
  },
  {
   "cell_type": "markdown",
   "id": "9bcf3186-f090-465e-909c-45899cc3cebc",
   "metadata": {},
   "source": [
    "## (a) \n",
    "### Produce a scatterplot matrix which includes all of the variables in the data set.\n"
   ]
  },
  {
   "cell_type": "markdown",
   "id": "041fa1df-ca07-4490-9165-2a079e831128",
   "metadata": {},
   "source": [
    "## (b) \n",
    "### Compute the matrix of correlations between the variables using the function `cor()`. You will need to exclude the name variable, `cor()` which is qualitative."
   ]
  },
  {
   "cell_type": "markdown",
   "id": "741c18d7-4b9d-402f-beeb-162c22dbeb9b",
   "metadata": {},
   "source": [
    "### (c) Use the `lm()` function to perform a multiple linear regression with `mpg as the response and all other variables except name as the predictors. Use the `summary()` function to print the results. Comment on the output. For instance:\n",
    "    i. Is there a relationship between the predictors and the response? \n",
    "    ii. Which predictors appear to have a statistically signifcant relationship to the response?\n",
    "    iii. What does the coefcient for the year variable suggest?"
   ]
  },
  {
   "cell_type": "markdown",
   "id": "0b57f92c-3d26-41dc-9cb8-bb0068cb0b14",
   "metadata": {},
   "source": [
    "## (d) \n",
    "### Use the plot() function to produce diagnostic plots of the linear regression ft. Comment on any problems you see with the ft. Do the residual plots suggest any unusually large outliers? Does the leverage plot identify any observations with unusually high leverage?\n"
   ]
  },
  {
   "cell_type": "markdown",
   "id": "65737595-1153-419c-9218-bc01dba004a7",
   "metadata": {},
   "source": [
    "## (e) \n",
    "### Use the * and : symbols to ft linear regression models with interaction efects. Do any interactions appear to be statistically signifcant?\n"
   ]
  },
  {
   "cell_type": "markdown",
   "id": "9e3b2c83-83d2-45fb-9e68-2255725a4346",
   "metadata": {},
   "source": [
    "## (f)\n",
    "### Try a few diferent transformations of the variables, such as log(X), √X, X2. Comment on your fndings."
   ]
  },
  {
   "cell_type": "markdown",
   "id": "4a51da0b-03a7-40a0-8ad4-b0a39545bd2f",
   "metadata": {},
   "source": []
  },
  {
   "cell_type": "markdown",
   "id": "f4d9be6a-e77d-4dc0-9ff0-1a850376dd57",
   "metadata": {},
   "source": [
    "# 10\n",
    "## This question should be answered using the `Carseats` data set"
   ]
  },
  {
   "cell_type": "markdown",
   "id": "31108b42-1e80-4f45-88c7-c1cbee8f9e6f",
   "metadata": {},
   "source": [
    "## (a) \n",
    "### Fit a multiple regression model to predict `Sales` using `Price`, `Urban`, and `US`.\n"
   ]
  },
  {
   "cell_type": "markdown",
   "id": "61e26a10-0483-4925-88a3-e7205ee55c27",
   "metadata": {},
   "source": [
    "## (b) \n",
    "### Provide an interpretation of each coefcient in the model. Be careful—some of the variables in the model are qualitative!\n"
   ]
  },
  {
   "cell_type": "markdown",
   "id": "daeb9925-45d8-4e0c-9bb4-4f7d5661e0de",
   "metadata": {},
   "source": [
    "## (c)\n",
    "### Write out the model in equation form, being careful to handle the qualitative variables properly.\n"
   ]
  },
  {
   "cell_type": "markdown",
   "id": "53b60359-431f-4e4b-a030-2524401e3dea",
   "metadata": {},
   "source": [
    "## (d)\n",
    "### For which of the predictors can you reject the null hypothesis $H_0 : β_j$ = 0?\n"
   ]
  },
  {
   "cell_type": "markdown",
   "id": "35cf3f6b-a357-43eb-9d11-d5cd1c665d8a",
   "metadata": {},
   "source": [
    "## (e)\n",
    "### On the basis of your response to the previous question, ft a smaller model that only uses the predictors for which there is evidence of association with the outcome.\n"
   ]
  },
  {
   "cell_type": "markdown",
   "id": "d76fcd6c-9143-41b9-a546-45d345b29bc0",
   "metadata": {},
   "source": [
    "## (f)\n",
    "### How well do the models in (a) and (e) ft the data?\n"
   ]
  },
  {
   "cell_type": "markdown",
   "id": "acb5e040-8276-4400-9a99-6451d28cabc5",
   "metadata": {},
   "source": [
    "## (g) \n",
    "### Using the model from (e), obtain 95 % confdence intervals for the coefcient(s).\n"
   ]
  },
  {
   "cell_type": "markdown",
   "id": "23563424-0ad9-46cb-bdaa-4c0d4c31206c",
   "metadata": {},
   "source": [
    "## (h) \n",
    "### Is there evidence of outliers or high leverage observations in the model from (e)?\n"
   ]
  },
  {
   "cell_type": "markdown",
   "id": "d34dd687-4ba0-483c-bf14-a8a4b209130e",
   "metadata": {},
   "source": []
  },
  {
   "cell_type": "markdown",
   "id": "c0285742-ae15-4d10-97c2-d36440dfdbde",
   "metadata": {},
   "source": [
    "# 12\n",
    "## This problem involves simple linear regression without an intercept"
   ]
  },
  {
   "cell_type": "markdown",
   "id": "ef0b760e-a865-4eff-8e12-c41e316fee6c",
   "metadata": {},
   "source": [
    "## (a) \n",
    "### Recall that the coefcient estimate βˆ for the linear regression of Y onto X without an intercept is given by (3.38). Under what circumstance is the coefcient estimate for the regression of X onto Y the same as the coefcient estimate for the regression of Y onto X?\n"
   ]
  },
  {
   "cell_type": "markdown",
   "id": "d9ed03fb-d3d8-4cfe-9326-c8714a87f6d6",
   "metadata": {},
   "source": [
    "## (b) \n",
    "### Generate an example in Python with n = 100 observations in which the coefcient estimate for the regression of X onto Y is diferent from the coefcient estimate for the regression of Y onto X.\n"
   ]
  },
  {
   "cell_type": "markdown",
   "id": "c5c9f597-a5a3-470b-9684-23807ff77867",
   "metadata": {},
   "source": [
    "## (c) \n",
    "### Generate an example in Python with n = 100 observations in which the coefcient estimate for the regression of X onto Y is the same as the coefcient estimate for the regression of Y onto X."
   ]
  },
  {
   "cell_type": "markdown",
   "id": "2f202905-68f5-48b3-9160-31738d0a5d15",
   "metadata": {},
   "source": []
  },
  {
   "cell_type": "markdown",
   "id": "20e573e9-2ed2-469b-9fd5-2c3d9287589f",
   "metadata": {},
   "source": []
  }
 ],
 "metadata": {
  "kernelspec": {
   "display_name": "R",
   "language": "R",
   "name": "ir"
  },
  "language_info": {
   "codemirror_mode": "r",
   "file_extension": ".r",
   "mimetype": "text/x-r-source",
   "name": "R",
   "pygments_lexer": "r",
   "version": "4.3.1"
  }
 },
 "nbformat": 4,
 "nbformat_minor": 5
}
