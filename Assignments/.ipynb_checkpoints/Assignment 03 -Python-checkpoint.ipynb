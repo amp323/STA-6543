{
 "cells": [
  {
   "cell_type": "markdown",
   "id": "df62ca64-eefb-4077-aedd-abefb5969664",
   "metadata": {},
   "source": [
    "# Assignment #3\n",
    "\n",
    "Name:\n",
    "\n",
    "    Angel Manuel Perez\n",
    "\n",
    "# Chapter 04 (page  189): 13, 14, 16"
   ]
  },
  {
   "cell_type": "code",
   "execution_count": 2,
   "id": "1ef7b2e6-b678-44e8-9a05-ae259d6705d2",
   "metadata": {},
   "outputs": [],
   "source": [
    "import ISLP\n",
    "from ISLP import load_data\n",
    "import seaborn as sns\n",
    "import pandas as pd\n",
    "import numpy as np\n",
    "import statsmodels.api as sm\n",
    "import matplotlib.pyplot as plt\n",
    "import statsmodels.formula.api as smf"
   ]
  },
  {
   "cell_type": "markdown",
   "id": "92a319ef-b586-4c57-835c-f45add1872ed",
   "metadata": {},
   "source": [
    "# 4.13\n",
    "## This question should be answered using the Weekly data set, which is part of the ISLP package. This data is similar in nature to the Smarket data from this chapter’s lab, except that it contains 1, 089 weekly returns for 21 years, from the beginning of 1990 to the end of 2010.\n"
   ]
  },
  {
   "cell_type": "markdown",
   "id": "18b80688-f8a0-4f3f-a3a7-3948e5b94ca2",
   "metadata": {},
   "source": [
    "## (a) \n",
    "## Produce some numerical and graphical summaries of the Weekly data. Do there appear to be any patterns?"
   ]
  },
  {
   "cell_type": "markdown",
   "id": "08c45b66-cc9f-40db-9f14-c8bed1b0b2c1",
   "metadata": {},
   "source": [
    "## (b) \n",
    "### Use the full data set to perform a logistic regression with Direction as the response and the fve lag variables plus Volume as predictors. Use the summary function to print the results. Do any of the predictors appear to be statistically signifcant? If so, which ones?\n"
   ]
  },
  {
   "cell_type": "markdown",
   "id": "ba8da021-3cc7-4d17-8f66-f196daf6d33f",
   "metadata": {},
   "source": [
    "## (c) \n",
    "### Compute the confusion matrix and overall fraction of correct predictions. Explain what the confusion matrix is telling you about the types of mistakes made by logistic regression.\n"
   ]
  },
  {
   "cell_type": "markdown",
   "id": "ae7cbf4f-b411-478b-96d3-04c9fc9dba1f",
   "metadata": {},
   "source": [
    "## (d) \n",
    "### Now ft the logistic regression model using a training data period from 1990 to 2008, with Lag2 as the only predictor. Compute the confusion matrix and the overall fraction of correct predictions for the held out data (that is, the data from 2009 and 2010).\n"
   ]
  },
  {
   "cell_type": "markdown",
   "id": "633d8d0b-2814-43e5-8a9c-24c962385ed4",
   "metadata": {},
   "source": [
    "## (e) \n",
    "### Repeat (d) using LDA.\n"
   ]
  },
  {
   "cell_type": "markdown",
   "id": "5cfbc566-37cf-4688-802d-c1461d41bf1b",
   "metadata": {},
   "source": [
    "## (f) \n",
    "### Repeat (d) using QDA."
   ]
  },
  {
   "cell_type": "markdown",
   "id": "52adbdd5-d763-4da3-9d70-6b80f5893f4c",
   "metadata": {},
   "source": [
    "## (g) \n",
    "### Repeat (d) using KNN with K = 1.\n"
   ]
  },
  {
   "cell_type": "markdown",
   "id": "4f00ac43-68b1-4717-885c-73070aa9389f",
   "metadata": {},
   "source": [
    "## (h) \n",
    "### Repeat (d) using naive Bayes.\n"
   ]
  },
  {
   "cell_type": "markdown",
   "id": "be55ad84-b10f-46ba-9371-7968d48b02a0",
   "metadata": {},
   "source": [
    "## (i) \n",
    "### Which of these methods appears to provide the best results on this data?\n"
   ]
  },
  {
   "cell_type": "markdown",
   "id": "d69d2e4f-469f-48da-929a-c079ad5a9b9e",
   "metadata": {},
   "source": [
    "## (j) \n",
    "### Experiment with diferent combinations of predictors, including possible transformations and interactions, for each of the methods. Report the variables, method, and associated confusion matrix that appears to provide the best results on the held out data. Note that you should also experiment with values for K in the KNN classifer."
   ]
  },
  {
   "cell_type": "markdown",
   "id": "fe700a56-5e0e-494f-ae57-3afbcc348ca9",
   "metadata": {},
   "source": []
  },
  {
   "cell_type": "markdown",
   "id": "0df3f528-1add-48a3-8e31-250c0da1c37b",
   "metadata": {},
   "source": []
  },
  {
   "cell_type": "markdown",
   "id": "34ce17c3-617e-4782-aadc-8aab4eb4d952",
   "metadata": {},
   "source": []
  },
  {
   "cell_type": "markdown",
   "id": "ae114a25-a56e-4a35-aa6b-70f194e4bb68",
   "metadata": {},
   "source": []
  },
  {
   "cell_type": "markdown",
   "id": "c36dc51b-97fa-4469-bae5-ef7717f4be2f",
   "metadata": {},
   "source": []
  },
  {
   "cell_type": "markdown",
   "id": "dfbff552-9937-448b-aeb0-8e71ee20d75c",
   "metadata": {},
   "source": []
  },
  {
   "cell_type": "markdown",
   "id": "a47203a5-b1b7-4924-977e-1729a4452807",
   "metadata": {},
   "source": [
    "# 4.14\n",
    "##  In this problem, you will develop a model to predict whether a given car gets high or low gas mileage based on the Auto data set."
   ]
  },
  {
   "cell_type": "markdown",
   "id": "f5d9c02e-8777-4256-878f-2da385caae04",
   "metadata": {},
   "source": [
    "## (a) \n",
    "### Create a binary variable, mpg01, that contains a 1 if mpg contains a value above its median, and a 0 if mpg contains a value below its median. You can compute the median using the median() method of the data frame. Note you may fnd it helpful to add a column mpg01 to the data frame by assignment. Assuming you have stored the data frame as Auto, this can be done as follows:\n",
    "```python\n",
    "Auto['mpg01'] = mpg01\n",
    "```"
   ]
  },
  {
   "cell_type": "markdown",
   "id": "46e31840-c85a-4d0c-8bc3-268e35f26d72",
   "metadata": {},
   "source": [
    "## b) \n",
    "### Explore the data graphically in order to investigate the association between mpg01 and the other features. Which of the other features seem most likely to be useful in predicting mpg01? Scatterplots and boxplots may be useful tools to answer this question. Describe your fndings.\n"
   ]
  },
  {
   "cell_type": "markdown",
   "id": "5b348dbf-82ef-4cfa-850e-d6df931cecc1",
   "metadata": {},
   "source": [
    "## (c) \n",
    "### Split the data into a training set and a test set.\n"
   ]
  },
  {
   "cell_type": "markdown",
   "id": "9a99c9aa-35eb-483e-af42-cf81d6d2f926",
   "metadata": {},
   "source": [
    "## (d) \n",
    "### Perform LDA on the training data in order to predict mpg01 using the variables that seemed most associated with mpg01 in (b). What is the test error of the model obtained?"
   ]
  },
  {
   "cell_type": "markdown",
   "id": "198af243-d468-46f6-8cc2-f40a21f30124",
   "metadata": {},
   "source": [
    "## (e) \n",
    "### Perform QDA on the training data in order to predict mpg01 using the variables that seemed most associated with mpg01 in (b). What is the test error of the model obtained?\n"
   ]
  },
  {
   "cell_type": "markdown",
   "id": "584d51ee-92f0-4de9-aae6-0b207881889d",
   "metadata": {},
   "source": [
    "## (f) \n",
    "### Perform logistic regression on the training data in order to predict mpg01 using the variables that seemed most associated with mpg01 in (b). What is the test error of the model obtained?\n"
   ]
  },
  {
   "cell_type": "markdown",
   "id": "ba1de3b5-e1de-46c6-a0ca-67d68e68a37d",
   "metadata": {},
   "source": [
    "## (g) \n",
    "### Perform naive Bayes on the training data in order to predict mpg01 using the variables that seemed most associated with mpg01 in (b). What is the test error of the model obtained?\n"
   ]
  },
  {
   "cell_type": "markdown",
   "id": "d3bde0ff-6440-412e-a61a-6e97eb618314",
   "metadata": {},
   "source": [
    "## (h) \n",
    "### Perform KNN on the training data, with several values of K, in order to predict mpg01. Use only the variables that seemed most associated with mpg01 in (b). What test errors do you obtain? Which value of K seems to perform the best on this data set?"
   ]
  },
  {
   "cell_type": "markdown",
   "id": "666f3f42-3ff0-4c5f-af70-fce0c5074938",
   "metadata": {},
   "source": []
  },
  {
   "cell_type": "markdown",
   "id": "c0c84588-9500-494e-a10f-3a3791d05f7c",
   "metadata": {},
   "source": [
    "# 4.16\n",
    "##  Using the Boston data set, ft classifcation models in order to predict whether a given suburb has a crime rate above or below the median. Explore logistic regression, LDA, naive Bayes, and KNN models using various subsets of the predictors. Describe your findings. \n",
    "## *_Hint: You will have to create the response variable yourself, using the variables that are contained in the Boston data set.)_"
   ]
  },
  {
   "cell_type": "markdown",
   "id": "790dc6e4-c972-4290-b453-2e36d35be778",
   "metadata": {},
   "source": []
  }
 ],
 "metadata": {
  "kernelspec": {
   "display_name": "Python 3 (ipykernel)",
   "language": "python",
   "name": "python3"
  },
  "language_info": {
   "codemirror_mode": {
    "name": "ipython",
    "version": 3
   },
   "file_extension": ".py",
   "mimetype": "text/x-python",
   "name": "python",
   "nbconvert_exporter": "python",
   "pygments_lexer": "ipython3",
   "version": "3.11.6"
  }
 },
 "nbformat": 4,
 "nbformat_minor": 5
}
