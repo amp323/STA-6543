{
 "cells": [
  {
   "cell_type": "markdown",
   "id": "976045e2-86a6-4a6f-bfdc-021acb53fcce",
   "metadata": {},
   "source": [
    "# Assignment #\n",
    "\n",
    "Name:\n",
    "\n",
    "    Angel Manuel Perez\n",
    "\n",
    "ID:\n",
    "\n",
    "    bue908\n",
    "    01132886\n"
   ]
  },
  {
   "cell_type": "code",
   "execution_count": null,
   "id": "c611c274-ce2f-4c46-940b-cf3d665adaaa",
   "metadata": {},
   "outputs": [],
   "source": []
  }
 ],
 "metadata": {
  "kernelspec": {
   "display_name": "R",
   "language": "R",
   "name": "ir"
  },
  "language_info": {
   "codemirror_mode": "r",
   "file_extension": ".r",
   "mimetype": "text/x-r-source",
   "name": "R",
   "pygments_lexer": "r",
   "version": "4.3.1"
  }
 },
 "nbformat": 4,
 "nbformat_minor": 5
}
