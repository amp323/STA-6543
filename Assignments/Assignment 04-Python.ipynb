{
 "cells": [
  {
   "cell_type": "markdown",
   "id": "976045e2-86a6-4a6f-bfdc-021acb53fcce",
   "metadata": {},
   "source": [
    "# Assignment #4\n",
    "\n",
    "Name:\n",
    "\n",
    "    Angel Manuel Perez\n",
    "\n",
    "\n",
    "# Chapter 05 (page  219): 3, 5, 6, 9\n",
    "\n"
   ]
  },
  {
   "cell_type": "code",
   "execution_count": 4,
   "id": "c611c274-ce2f-4c46-940b-cf3d665adaaa",
   "metadata": {},
   "outputs": [],
   "source": [
    "import ISLP"
   ]
  },
  {
   "cell_type": "markdown",
   "id": "fa696159-2542-4ada-9dce-cdda1502f5e4",
   "metadata": {},
   "source": [
    "# 5.3\n",
    "## We now review k-fold cross-validation.\n"
   ]
  },
  {
   "cell_type": "markdown",
   "id": "9890fe92-7c93-4df8-8fda-81dafbca0085",
   "metadata": {},
   "source": [
    "## (a) Explain how k-fold cross-validation is implemented.\n"
   ]
  },
  {
   "cell_type": "markdown",
   "id": "27591be7-7b35-48b7-95b0-174a67b1a355",
   "metadata": {},
   "source": [
    "## (b) What are the advantages and disadvantages of k-fold cross-validation relative to:\n"
   ]
  },
  {
   "cell_type": "markdown",
   "id": "68d39423-9615-4b8c-90c4-33117a769dfc",
   "metadata": {},
   "source": [
    "    + i. The validation set approach?\n"
   ]
  },
  {
   "cell_type": "markdown",
   "id": "06764344-fbe7-43d8-af26-77bc563476f4",
   "metadata": {},
   "source": [
    "    + ii. LOOCV?\n"
   ]
  },
  {
   "cell_type": "markdown",
   "id": "3b7eff25-6c6a-49de-8042-f4a6a5add494",
   "metadata": {},
   "source": [
    "# 5.4\n",
    "## In Chapter 4, we used logistic regression to predict the probability of `default` using `income` and `balance` on the `Default` data set. We will now estimate the test error of this logistic regression model using the validation set approach. Do not forget to set a random seed before beginning your analysis."
   ]
  },
  {
   "cell_type": "markdown",
   "id": "f1f57fdd-c627-48e6-82b7-4957f2b8eaec",
   "metadata": {},
   "source": [
    "### (a) Fit a logistic regression model that uses income and balance to predict default.\n"
   ]
  },
  {
   "cell_type": "markdown",
   "id": "e18e48e3-5f4b-4bcf-b711-e78e522f1f96",
   "metadata": {},
   "source": [
    "### (b) Using the validation set approach, estimate the test error of this model. In order to do this, you must perform the following steps:\n"
   ]
  },
  {
   "cell_type": "markdown",
   "id": "df28fe1c-38af-4861-8d28-ef13629531a6",
   "metadata": {},
   "source": [
    "    i. Split the sample set into a training set and a validation set.\n",
    "    "
   ]
  },
  {
   "cell_type": "markdown",
   "id": "6f0f10d5-9333-45c2-a6f9-0a4eb3c3c3d5",
   "metadata": {},
   "source": [
    "    ii. Fit a multiple logistic regression model using only the training observations. \n",
    "    "
   ]
  },
  {
   "cell_type": "markdown",
   "id": "c5d54d72-1a9d-4632-a547-7de4a95ea8c5",
   "metadata": {},
   "source": [
    "    iii. Obtain a prediction of default status for each individual in the validation set by computing the posterior probability of `default` for that individual, and classifying the individual to the default category if the posterior probability is greater than 0.5.\n",
    "    "
   ]
  },
  {
   "cell_type": "markdown",
   "id": "88d6074e-72a8-4375-911c-0c651d236a11",
   "metadata": {},
   "source": [
    "    iv. Compute the validation set error, which is the fraction of the observations in the validation set that are misclassified.\n"
   ]
  },
  {
   "cell_type": "markdown",
   "id": "832f0a24-0d74-4f3d-97c6-71f21eed2e70",
   "metadata": {},
   "source": [
    "### (c) Repeat the process in (b) three times, using three different splits of the observations into a training set and a validation set. Com- ment on the results obtained."
   ]
  },
  {
   "cell_type": "markdown",
   "id": "ed153ed3-b06c-4688-b2ff-a3d0544ec2b6",
   "metadata": {},
   "source": [
    "### (d) Now consider a logistic regression model that predicts the probability of default using `income`, `balance`, and a dummy variable for `student`. Estimate the test error for this model using the validation set approach. Comment on whether or not including a dummy variable for student leads to a reduction in the test error rate."
   ]
  },
  {
   "cell_type": "markdown",
   "id": "11e08e7b-652a-4a76-83af-f21ab29df837",
   "metadata": {},
   "source": [
    "# 5.6\n",
    "## We continue to consider the use of a logistic regression model to predict the probability of `default` using `income` and `balance` on the `Default` data set. In particular, we will now compute estimates for the standard errors of the `income` and `balance` logistic regression coefficients in two different ways: (1) using the bootstrap, and (2) using the standard formula for computing the standard errors in the `sm.GLM()` function. Do not forget to set a random seed before beginning your analysis."
   ]
  },
  {
   "cell_type": "markdown",
   "id": "b26cd6f2-dc7a-4cf0-a4d5-e5176da912c9",
   "metadata": {},
   "source": [
    "### (a) Using the `summarize()` and `sm.GLM()` functions, determine the estimated standard errors for the coefficients associated with `income` and `balance` in a multiple logistic regression model that uses both predictors.\n"
   ]
  },
  {
   "cell_type": "markdown",
   "id": "7b5c9e6e-d20b-4d6a-b5dc-0c6a342aef87",
   "metadata": {},
   "source": [
    "### (b) Write a function, `boot_fn()`, that takes as input the `Default`data set as well as an index of the observations, and that outputs the coefficient estimates for `income` and `balance` in the multiple logistic regression model.\n"
   ]
  },
  {
   "cell_type": "markdown",
   "id": "6e23371a-b1d2-4ae1-b70a-b3709955b887",
   "metadata": {},
   "source": [
    "### (c) Following the bootstrap example in the lab, use your boot_fn() function to estimate the standard errors of the logistic regression coefficients for `income` and `balance`."
   ]
  },
  {
   "cell_type": "markdown",
   "id": "6f101ccc-d631-44a8-95a0-ae90524e28f2",
   "metadata": {},
   "source": [
    "### (d) Comment on the estimated standard errors obtained using the `sm.GLM()` function and using the bootstrap."
   ]
  },
  {
   "cell_type": "markdown",
   "id": "72e7dd2a-f0f2-4a2e-aa92-12856f9b6132",
   "metadata": {},
   "source": [
    "# 5.9 \n",
    "## We will now consider the Boston housing data set, from the ISLP library.\n",
    "# (a) Based on this data set, provide an estimate for the population mean of medv. Call this estimate μˆ.\n",
    "```python  rng = np.random.default_rng(1)\n",
    "x = rng.normal(size=100)\n",
    "y = x - 2 * x**2 + rng.normal(size=100)\n",
    "```\n"
   ]
  },
  {
   "cell_type": "markdown",
   "id": "5e9d7b4b-0ba8-44a8-b695-481b6402b236",
   "metadata": {},
   "source": [
    "# (b) Provide an estimate of the standard error of μˆ. Interpret this result.\n",
    "*Hint: We can compute the standard error of the sample mean by dividing the sample standard deviation by the square root of the number of observations.*\n"
   ]
  },
  {
   "cell_type": "markdown",
   "id": "82e00eb6-2c3f-4dbe-8467-095c43e11bfa",
   "metadata": {},
   "source": [
    "# (c) Now estimate the standard error of μˆ using the bootstrap. How does this compare to your answer from (b)?\n"
   ]
  },
  {
   "cell_type": "markdown",
   "id": "d62f1925-ed59-4453-8486-c40f428221e5",
   "metadata": {},
   "source": [
    "# (d) Based on your bootstrap estimate from (c), provide a 95 % con- fidence interval for the mean of medv. Compare it to the results obtained by using Boston['medv'].std() and the two standard error rule (3.9).\n",
    "*Hint: You can approximate a 95 % confidence interval using the formula [μ̂ - 2SE(μ̂), μ̂ + 2SE(μ̂)].*\n"
   ]
  },
  {
   "cell_type": "markdown",
   "id": "fb0865d8-2e89-413e-97d5-61eb96485ffa",
   "metadata": {},
   "source": [
    "# (e) Based on this data set, provide an estimate, $\\hat{\\mu}_{\\text{med}}$, for the median value of medv in the population.\n"
   ]
  },
  {
   "cell_type": "markdown",
   "id": "7cff6e4d-adf1-4e6a-a170-33e9877c2f56",
   "metadata": {},
   "source": [
    "# (f) We now would like to estimate the standard error of $\\hat{\\mu}_{\\text{med}}$. Unfortunately, there is no simple formula for computing the standard error of the median. Instead, estimate the standard error of the median using the bootstrap. Comment on your findings.\n"
   ]
  },
  {
   "cell_type": "markdown",
   "id": "67dc0821-4298-4e9e-aed8-09718dec24ec",
   "metadata": {},
   "source": [
    "# (g) Based on this data set, provide an estimate for the tenth percentile of `medv` in Boston census tracts. Call this quantity $\\hat{\\mu}_{\\text{0.1}}$. (You can use the `np.percentile()` function.\n"
   ]
  },
  {
   "cell_type": "markdown",
   "id": "24c19f5c-6e08-4d18-8960-1c1c53e8f093",
   "metadata": {},
   "source": [
    "# (h) Use the bootstrap to estimate the standard error of $\\hat{\\mu}_{\\text{0.1}}$. Comment on your findings."
   ]
  },
  {
   "cell_type": "markdown",
   "id": "a5757750-bee5-4f7e-b990-1de2bcf19cce",
   "metadata": {},
   "source": []
  },
  {
   "cell_type": "markdown",
   "id": "e03508c3-ced9-4675-af62-3c44e9767955",
   "metadata": {},
   "source": []
  },
  {
   "cell_type": "markdown",
   "id": "62cb6336-eec2-4b65-bb69-37e29cbe0360",
   "metadata": {},
   "source": []
  }
 ],
 "metadata": {
  "kernelspec": {
   "display_name": "Python 3 (ipykernel)",
   "language": "python",
   "name": "python3"
  },
  "language_info": {
   "codemirror_mode": {
    "name": "ipython",
    "version": 3
   },
   "file_extension": ".py",
   "mimetype": "text/x-python",
   "name": "python",
   "nbconvert_exporter": "python",
   "pygments_lexer": "ipython3",
   "version": "3.11.6"
  }
 },
 "nbformat": 4,
 "nbformat_minor": 5
}
